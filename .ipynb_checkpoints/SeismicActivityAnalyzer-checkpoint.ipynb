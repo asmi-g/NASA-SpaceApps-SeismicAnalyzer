{
 "cells": [
  {
   "cell_type": "markdown",
   "id": "2294f1f6",
   "metadata": {},
   "source": [
    "# NASA Space Apps: Seismic Activity Analyzer"
   ]
  },
  {
   "cell_type": "markdown",
   "id": "40be1fdd",
   "metadata": {},
   "source": [
    "## Demo Notebook: Plot Apollo 12 Grade A Catalog"
   ]
  },
  {
   "cell_type": "markdown",
   "id": "e5b60f96",
   "metadata": {},
   "source": [
    "### Import Libraries and CSV File"
   ]
  },
  {
   "cell_type": "code",
   "execution_count": 8,
   "id": "f1036acf",
   "metadata": {},
   "outputs": [],
   "source": [
    "# Import libraries\n",
    "import numpy as np\n",
    "#import pandas as pd\n",
    "from datetime import datetime, timedelta\n",
    "import matplotlib.pyplot as plt\n",
    "import os\n",
    "from obspy.core import read"
   ]
  },
  {
   "cell_type": "code",
   "execution_count": null,
   "id": "4a19d04f",
   "metadata": {},
   "outputs": [],
   "source": [
    "pip install obspy --upgrade"
   ]
  },
  {
   "cell_type": "code",
   "execution_count": 33,
   "id": "f4a4b98b",
   "metadata": {
    "scrolled": true
   },
   "outputs": [
    {
     "data": {
      "text/html": [
       "<div>\n",
       "<style scoped>\n",
       "    .dataframe tbody tr th:only-of-type {\n",
       "        vertical-align: middle;\n",
       "    }\n",
       "\n",
       "    .dataframe tbody tr th {\n",
       "        vertical-align: top;\n",
       "    }\n",
       "\n",
       "    .dataframe thead th {\n",
       "        text-align: right;\n",
       "    }\n",
       "</style>\n",
       "<table border=\"1\" class=\"dataframe\">\n",
       "  <thead>\n",
       "    <tr style=\"text-align: right;\">\n",
       "      <th></th>\n",
       "      <th>filename</th>\n",
       "      <th>time_abs(%Y-%m-%dT%H:%M:%S.%f)</th>\n",
       "      <th>time_rel(sec)</th>\n",
       "      <th>evid</th>\n",
       "      <th>mq_type</th>\n",
       "    </tr>\n",
       "  </thead>\n",
       "  <tbody>\n",
       "    <tr>\n",
       "      <th>0</th>\n",
       "      <td>xa.s12.00.mhz.1970-01-19HR00_evid00002</td>\n",
       "      <td>1970-01-19T20:25:00.000000</td>\n",
       "      <td>73500.0</td>\n",
       "      <td>evid00002</td>\n",
       "      <td>impact_mq</td>\n",
       "    </tr>\n",
       "    <tr>\n",
       "      <th>1</th>\n",
       "      <td>xa.s12.00.mhz.1970-03-25HR00_evid00003</td>\n",
       "      <td>1970-03-25T03:32:00.000000</td>\n",
       "      <td>12720.0</td>\n",
       "      <td>evid00003</td>\n",
       "      <td>impact_mq</td>\n",
       "    </tr>\n",
       "    <tr>\n",
       "      <th>2</th>\n",
       "      <td>xa.s12.00.mhz.1970-03-26HR00_evid00004</td>\n",
       "      <td>1970-03-26T20:17:00.000000</td>\n",
       "      <td>73020.0</td>\n",
       "      <td>evid00004</td>\n",
       "      <td>impact_mq</td>\n",
       "    </tr>\n",
       "    <tr>\n",
       "      <th>3</th>\n",
       "      <td>xa.s12.00.mhz.1970-04-25HR00_evid00006</td>\n",
       "      <td>1970-04-25T01:14:00.000000</td>\n",
       "      <td>4440.0</td>\n",
       "      <td>evid00006</td>\n",
       "      <td>impact_mq</td>\n",
       "    </tr>\n",
       "    <tr>\n",
       "      <th>4</th>\n",
       "      <td>xa.s12.00.mhz.1970-04-26HR00_evid00007</td>\n",
       "      <td>1970-04-26T14:29:00.000000</td>\n",
       "      <td>52140.0</td>\n",
       "      <td>evid00007</td>\n",
       "      <td>deep_mq</td>\n",
       "    </tr>\n",
       "    <tr>\n",
       "      <th>...</th>\n",
       "      <td>...</td>\n",
       "      <td>...</td>\n",
       "      <td>...</td>\n",
       "      <td>...</td>\n",
       "      <td>...</td>\n",
       "    </tr>\n",
       "    <tr>\n",
       "      <th>71</th>\n",
       "      <td>xa.s12.00.mhz.1974-10-14HR00_evid00156</td>\n",
       "      <td>1974-10-14T17:43:00.000000</td>\n",
       "      <td>63780.0</td>\n",
       "      <td>evid00156</td>\n",
       "      <td>impact_mq</td>\n",
       "    </tr>\n",
       "    <tr>\n",
       "      <th>72</th>\n",
       "      <td>xa.s12.00.mhz.1975-04-12HR00_evid00191</td>\n",
       "      <td>1975-04-12T18:15:00.000000</td>\n",
       "      <td>65700.0</td>\n",
       "      <td>evid00191</td>\n",
       "      <td>impact_mq</td>\n",
       "    </tr>\n",
       "    <tr>\n",
       "      <th>73</th>\n",
       "      <td>xa.s12.00.mhz.1975-05-04HR00_evid00192</td>\n",
       "      <td>1975-05-04T10:05:00.000000</td>\n",
       "      <td>36300.0</td>\n",
       "      <td>evid00192</td>\n",
       "      <td>impact_mq</td>\n",
       "    </tr>\n",
       "    <tr>\n",
       "      <th>74</th>\n",
       "      <td>xa.s12.00.mhz.1975-06-24HR00_evid00196</td>\n",
       "      <td>1975-06-24T16:03:00.000000</td>\n",
       "      <td>57780.0</td>\n",
       "      <td>evid00196</td>\n",
       "      <td>impact_mq</td>\n",
       "    </tr>\n",
       "    <tr>\n",
       "      <th>75</th>\n",
       "      <td>xa.s12.00.mhz.1975-06-26HR00_evid00198</td>\n",
       "      <td>1975-06-26T03:24:00.000000</td>\n",
       "      <td>12240.0</td>\n",
       "      <td>evid00198</td>\n",
       "      <td>impact_mq</td>\n",
       "    </tr>\n",
       "  </tbody>\n",
       "</table>\n",
       "<p>76 rows × 5 columns</p>\n",
       "</div>"
      ],
      "text/plain": [
       "                                  filename time_abs(%Y-%m-%dT%H:%M:%S.%f)  \\\n",
       "0   xa.s12.00.mhz.1970-01-19HR00_evid00002     1970-01-19T20:25:00.000000   \n",
       "1   xa.s12.00.mhz.1970-03-25HR00_evid00003     1970-03-25T03:32:00.000000   \n",
       "2   xa.s12.00.mhz.1970-03-26HR00_evid00004     1970-03-26T20:17:00.000000   \n",
       "3   xa.s12.00.mhz.1970-04-25HR00_evid00006     1970-04-25T01:14:00.000000   \n",
       "4   xa.s12.00.mhz.1970-04-26HR00_evid00007     1970-04-26T14:29:00.000000   \n",
       "..                                     ...                            ...   \n",
       "71  xa.s12.00.mhz.1974-10-14HR00_evid00156     1974-10-14T17:43:00.000000   \n",
       "72  xa.s12.00.mhz.1975-04-12HR00_evid00191     1975-04-12T18:15:00.000000   \n",
       "73  xa.s12.00.mhz.1975-05-04HR00_evid00192     1975-05-04T10:05:00.000000   \n",
       "74  xa.s12.00.mhz.1975-06-24HR00_evid00196     1975-06-24T16:03:00.000000   \n",
       "75  xa.s12.00.mhz.1975-06-26HR00_evid00198     1975-06-26T03:24:00.000000   \n",
       "\n",
       "    time_rel(sec)       evid    mq_type  \n",
       "0         73500.0  evid00002  impact_mq  \n",
       "1         12720.0  evid00003  impact_mq  \n",
       "2         73020.0  evid00004  impact_mq  \n",
       "3          4440.0  evid00006  impact_mq  \n",
       "4         52140.0  evid00007    deep_mq  \n",
       "..            ...        ...        ...  \n",
       "71        63780.0  evid00156  impact_mq  \n",
       "72        65700.0  evid00191  impact_mq  \n",
       "73        36300.0  evid00192  impact_mq  \n",
       "74        57780.0  evid00196  impact_mq  \n",
       "75        12240.0  evid00198  impact_mq  \n",
       "\n",
       "[76 rows x 5 columns]"
      ]
     },
     "execution_count": 33,
     "metadata": {},
     "output_type": "execute_result"
    }
   ],
   "source": [
    "cat_directory = './data/training/catalogs/'\n",
    "cat_file = cat_directory + 'apollo12_catalog_GradeA_final.csv'\n",
    "cat = pd.read_csv(cat_file)\n",
    "cat"
   ]
  },
  {
   "cell_type": "markdown",
   "id": "7cba28b3",
   "metadata": {},
   "source": [
    "### Select A Detection (Manually)\n",
    "Let’s pick the first seismic event in the catalog and let’s take a look at the absolute time data. The way we show it here is by using pandas .iloc and datetime .strptime. We are going to keep the format shown in the absolute time header, which is '%Y-%m-%dT%H:%M:%S.%f'"
   ]
  },
  {
   "cell_type": "code",
   "execution_count": 34,
   "id": "aa2dd3ea",
   "metadata": {},
   "outputs": [
    {
     "data": {
      "text/plain": [
       "datetime.datetime(1970, 6, 26, 20, 1)"
      ]
     },
     "execution_count": 34,
     "metadata": {},
     "output_type": "execute_result"
    }
   ],
   "source": [
    "row = cat.iloc[6] # Location of the first \"deep_mq\", or deep moon quake\n",
    "arrival_time = datetime.strptime(row['time_abs(%Y-%m-%dT%H:%M:%S.%f)'],'%Y-%m-%dT%H:%M:%S.%f')\n",
    "arrival_time"
   ]
  },
  {
   "cell_type": "code",
   "execution_count": 35,
   "id": "5d1dd28b",
   "metadata": {},
   "outputs": [
    {
     "data": {
      "text/plain": [
       "72060.0"
      ]
     },
     "execution_count": 35,
     "metadata": {},
     "output_type": "execute_result"
    }
   ],
   "source": [
    "# If we want the value of relative time, we don't need to use datetime\n",
    "arrival_time_rel = row['time_rel(sec)']\n",
    "arrival_time_rel"
   ]
  },
  {
   "cell_type": "code",
   "execution_count": 36,
   "id": "57e8cc96",
   "metadata": {},
   "outputs": [
    {
     "data": {
      "text/plain": [
       "'xa.s12.00.mhz.1970-06-26HR00_evid00009'"
      ]
     },
     "execution_count": 36,
     "metadata": {},
     "output_type": "execute_result"
    }
   ],
   "source": [
    "# Let's also get the name of the file\n",
    "test_filename = row.filename\n",
    "test_filename"
   ]
  },
  {
   "cell_type": "markdown",
   "id": "a7bec9f5",
   "metadata": {},
   "source": [
    "### Read and plot the .csv corresponding to that detection\n",
    "We will now find the csv data file corresponding to that time and plot it."
   ]
  },
  {
   "cell_type": "code",
   "execution_count": 37,
   "id": "6b12e43c",
   "metadata": {},
   "outputs": [
    {
     "data": {
      "text/html": [
       "<div>\n",
       "<style scoped>\n",
       "    .dataframe tbody tr th:only-of-type {\n",
       "        vertical-align: middle;\n",
       "    }\n",
       "\n",
       "    .dataframe tbody tr th {\n",
       "        vertical-align: top;\n",
       "    }\n",
       "\n",
       "    .dataframe thead th {\n",
       "        text-align: right;\n",
       "    }\n",
       "</style>\n",
       "<table border=\"1\" class=\"dataframe\">\n",
       "  <thead>\n",
       "    <tr style=\"text-align: right;\">\n",
       "      <th></th>\n",
       "      <th>time_abs(%Y-%m-%dT%H:%M:%S.%f)</th>\n",
       "      <th>time_rel(sec)</th>\n",
       "      <th>velocity(m/s)</th>\n",
       "    </tr>\n",
       "  </thead>\n",
       "  <tbody>\n",
       "    <tr>\n",
       "      <th>0</th>\n",
       "      <td>1970-06-26T00:00:00.116000</td>\n",
       "      <td>0.000000</td>\n",
       "      <td>-6.727977e-16</td>\n",
       "    </tr>\n",
       "    <tr>\n",
       "      <th>1</th>\n",
       "      <td>1970-06-26T00:00:00.266943</td>\n",
       "      <td>0.150943</td>\n",
       "      <td>-8.646711e-16</td>\n",
       "    </tr>\n",
       "    <tr>\n",
       "      <th>2</th>\n",
       "      <td>1970-06-26T00:00:00.417887</td>\n",
       "      <td>0.301887</td>\n",
       "      <td>-9.298738e-16</td>\n",
       "    </tr>\n",
       "    <tr>\n",
       "      <th>3</th>\n",
       "      <td>1970-06-26T00:00:00.568830</td>\n",
       "      <td>0.452830</td>\n",
       "      <td>-8.589095e-16</td>\n",
       "    </tr>\n",
       "    <tr>\n",
       "      <th>4</th>\n",
       "      <td>1970-06-26T00:00:00.719774</td>\n",
       "      <td>0.603774</td>\n",
       "      <td>-7.139047e-16</td>\n",
       "    </tr>\n",
       "    <tr>\n",
       "      <th>...</th>\n",
       "      <td>...</td>\n",
       "      <td>...</td>\n",
       "      <td>...</td>\n",
       "    </tr>\n",
       "    <tr>\n",
       "      <th>572418</th>\n",
       "      <td>1970-06-27T00:00:02.832981</td>\n",
       "      <td>86402.716981</td>\n",
       "      <td>5.039820e-17</td>\n",
       "    </tr>\n",
       "    <tr>\n",
       "      <th>572419</th>\n",
       "      <td>1970-06-27T00:00:02.983925</td>\n",
       "      <td>86402.867925</td>\n",
       "      <td>-9.191068e-18</td>\n",
       "    </tr>\n",
       "    <tr>\n",
       "      <th>572420</th>\n",
       "      <td>1970-06-27T00:00:03.134868</td>\n",
       "      <td>86403.018868</td>\n",
       "      <td>-2.796955e-17</td>\n",
       "    </tr>\n",
       "    <tr>\n",
       "      <th>572421</th>\n",
       "      <td>1970-06-27T00:00:03.285811</td>\n",
       "      <td>86403.169811</td>\n",
       "      <td>-9.037156e-17</td>\n",
       "    </tr>\n",
       "    <tr>\n",
       "      <th>572422</th>\n",
       "      <td>1970-06-27T00:00:03.436755</td>\n",
       "      <td>86403.320755</td>\n",
       "      <td>-2.439395e-16</td>\n",
       "    </tr>\n",
       "  </tbody>\n",
       "</table>\n",
       "<p>572423 rows × 3 columns</p>\n",
       "</div>"
      ],
      "text/plain": [
       "       time_abs(%Y-%m-%dT%H:%M:%S.%f)  time_rel(sec)  velocity(m/s)\n",
       "0          1970-06-26T00:00:00.116000       0.000000  -6.727977e-16\n",
       "1          1970-06-26T00:00:00.266943       0.150943  -8.646711e-16\n",
       "2          1970-06-26T00:00:00.417887       0.301887  -9.298738e-16\n",
       "3          1970-06-26T00:00:00.568830       0.452830  -8.589095e-16\n",
       "4          1970-06-26T00:00:00.719774       0.603774  -7.139047e-16\n",
       "...                               ...            ...            ...\n",
       "572418     1970-06-27T00:00:02.832981   86402.716981   5.039820e-17\n",
       "572419     1970-06-27T00:00:02.983925   86402.867925  -9.191068e-18\n",
       "572420     1970-06-27T00:00:03.134868   86403.018868  -2.796955e-17\n",
       "572421     1970-06-27T00:00:03.285811   86403.169811  -9.037156e-17\n",
       "572422     1970-06-27T00:00:03.436755   86403.320755  -2.439395e-16\n",
       "\n",
       "[572423 rows x 3 columns]"
      ]
     },
     "execution_count": 37,
     "metadata": {},
     "output_type": "execute_result"
    }
   ],
   "source": [
    "data_directory = './data/training/data/S12_GradeA/'\n",
    "csv_file = f'{data_directory}{test_filename}.csv'\n",
    "data_cat = pd.read_csv(csv_file)\n",
    "data_cat\n"
   ]
  },
  {
   "cell_type": "code",
   "execution_count": 38,
   "id": "7f573e5d",
   "metadata": {},
   "outputs": [
    {
     "data": {
      "text/plain": [
       "<matplotlib.legend.Legend at 0x2b95cfe7ca0>"
      ]
     },
     "execution_count": 38,
     "metadata": {},
     "output_type": "execute_result"
    },
    {
     "data": {
      "image/png": "[encoded data removed]",
      "text/plain": [
       "<Figure size 1000x300 with 1 Axes>"
      ]
     },
     "metadata": {},
     "output_type": "display_data"
    }
   ],
   "source": [
    "# Read in time steps and velocities\n",
    "csv_times = np.array(data_cat['time_rel(sec)'].tolist())\n",
    "csv_data = np.array(data_cat['velocity(m/s)'].tolist())\n",
    "\n",
    "# Plot the trace!\n",
    "fig,ax = plt.subplots(1,1,figsize=(10,3))\n",
    "ax.plot(csv_times,csv_data)\n",
    "\n",
    "# Make the plot pretty\n",
    "ax.set_xlim([min(csv_times),max(csv_times)])\n",
    "ax.set_ylabel('Velocity (m/s)')\n",
    "ax.set_xlabel('Time (s)')\n",
    "ax.set_title(f'{test_filename}', fontweight='bold')\n",
    "\n",
    "# Plot where the arrival time is\n",
    "arrival_line = ax.axvline(x=arrival_time_rel, c='red', label='Rel. Arrival')\n",
    "ax.legend(handles=[arrival_line])"
   ]
  },
  {
   "cell_type": "markdown",
   "id": "ae7498aa",
   "metadata": {},
   "source": [
    "### Alternate Method: Use Miniseed File Corresponding to that Detection"
   ]
  },
  {
   "cell_type": "code",
   "execution_count": null,
   "id": "80cfeea6",
   "metadata": {
    "scrolled": true
   },
   "outputs": [],
   "source": [
    "mseed_file = f'{data_directory}{test_filename}.mseed'\n",
    "# xa.s12.00.mhz.1970-06-26HR00_evid00009.mseed\n",
    "mseed_file2 = \"/data/training/data/S12_GradeA/xa.s12.00.mhz.1970-06-26HR00_evid00009.mseed\"\n",
    "st = read(mseed_file)\n",
    "st"
   ]
  },
  {
   "cell_type": "markdown",
   "id": "485f9ffe",
   "metadata": {},
   "source": [
    "### Filter the Trace\n",
    "It’s useful to filter the trace to bring out particular frequencies. This will change the shape of the data and make it easier to see certain parts of the signal. In this example, we will filter the data using a bandpass filter between 0.01 Hz to 0.5 Hz"
   ]
  },
  {
   "cell_type": "code",
   "execution_count": 45,
   "id": "d0db3925",
   "metadata": {},
   "outputs": [
    {
     "ename": "NameError",
     "evalue": "name 'st' is not defined",
     "output_type": "error",
     "traceback": [
      "\u001b[1;31m---------------------------------------------------------------------------\u001b[0m",
      "\u001b[1;31mNameError\u001b[0m                                 Traceback (most recent call last)",
      "Cell \u001b[1;32mIn[45], line 6\u001b[0m\n\u001b[0;32m      3\u001b[0m maxfreq \u001b[38;5;241m=\u001b[39m \u001b[38;5;241m1.0\u001b[39m\n\u001b[0;32m      5\u001b[0m \u001b[38;5;66;03m# Going to create a separate trace for the filter data\u001b[39;00m\n\u001b[1;32m----> 6\u001b[0m st_filt \u001b[38;5;241m=\u001b[39m \u001b[43mst\u001b[49m\u001b[38;5;241m.\u001b[39mcopy()\n\u001b[0;32m      7\u001b[0m st_filt\u001b[38;5;241m.\u001b[39mfilter(\u001b[38;5;124m'\u001b[39m\u001b[38;5;124mbandpass\u001b[39m\u001b[38;5;124m'\u001b[39m,freqmin\u001b[38;5;241m=\u001b[39mminfreq,freqmax\u001b[38;5;241m=\u001b[39mmaxfreq)\n\u001b[0;32m      8\u001b[0m tr_filt \u001b[38;5;241m=\u001b[39m st_filt\u001b[38;5;241m.\u001b[39mtraces[\u001b[38;5;241m0\u001b[39m]\u001b[38;5;241m.\u001b[39mcopy()\n",
      "\u001b[1;31mNameError\u001b[0m: name 'st' is not defined"
     ]
    }
   ],
   "source": [
    "# Set the minimum frequency\n",
    "minfreq = 0.5\n",
    "maxfreq = 1.0\n",
    "\n",
    "# Going to create a separate trace for the filter data\n",
    "st_filt = st.copy()\n",
    "st_filt.filter('bandpass',freqmin=minfreq,freqmax=maxfreq)\n",
    "tr_filt = st_filt.traces[0].copy()\n",
    "tr_times_filt = tr_filt.times()\n",
    "tr_data_filt = tr_filt.data"
   ]
  },
  {
   "cell_type": "code",
   "execution_count": null,
   "id": "f641fec3",
   "metadata": {},
   "outputs": [],
   "source": []
  },
  {
   "cell_type": "code",
   "execution_count": null,
   "id": "3bcbaaeb",
   "metadata": {},
   "outputs": [],
   "source": []
  }
 ],
 "metadata": {
  "kernelspec": {
   "display_name": "Python 3 (ipykernel)",
   "language": "python",
   "name": "python3"
  },
  "language_info": {
   "codemirror_mode": {
    "name": "ipython",
    "version": 3
   },
   "file_extension": ".py",
   "mimetype": "text/x-python",
   "name": "python",
   "nbconvert_exporter": "python",
   "pygments_lexer": "ipython3",
   "version": "3.10.9"
  }
 },
 "nbformat": 4,
 "nbformat_minor": 5
}
